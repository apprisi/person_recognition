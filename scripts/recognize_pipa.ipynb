{
 "cells": [
  {
   "cell_type": "code",
   "execution_count": null,
   "metadata": {
    "collapsed": false
   },
   "outputs": [],
   "source": [
    "import sys\n",
    "import os\n",
    "import numpy as np\n",
    "from numpy import loadtxt\n",
    "import cv2\n",
    "\n",
    "# caffe layers\n",
    "caffe_root = '/users/vijay.kumar/caffe/'\n",
    "sys.path.insert(0, caffe_root + 'python')\n",
    "sys.path.insert(0, '/users/vijay.kumar/tools/liblinear-2.1/python')\n",
    "\n",
    "import caffe\n",
    "from caffe import layers as L\n",
    "from liblinearutil import *\n",
    "from utils import *\n",
    "\n",
    "# enable gpu\n",
    "caffe.set_mode_gpu()"
   ]
  },
  {
   "cell_type": "code",
   "execution_count": null,
   "metadata": {
    "collapsed": false
   },
   "outputs": [],
   "source": [
    "params = read_params()"
   ]
  },
  {
   "cell_type": "code",
   "execution_count": null,
   "metadata": {
    "collapsed": false
   },
   "outputs": [],
   "source": [
    "# initilaze caffe transformer\n",
    "transformer = define_transformer()\n",
    "\n",
    "# load pose nets and the pose estimator\n",
    "nets, pose_net = load_models()"
   ]
  },
  {
   "cell_type": "code",
   "execution_count": null,
   "metadata": {
    "collapsed": true
   },
   "outputs": [],
   "source": [
    "import PIL.Image\n",
    "from cStringIO import StringIO\n",
    "import IPython.display\n",
    "\n",
    "def showarray(a, fmt='png'):\n",
    "    a = np.uint8(a)\n",
    "    f = StringIO()\n",
    "    PIL.Image.fromarray(a).save(f, fmt)\n",
    "    IPython.display.display(IPython.display.Image(data=f.getvalue()))"
   ]
  },
  {
   "cell_type": "code",
   "execution_count": null,
   "metadata": {
    "collapsed": true
   },
   "outputs": [],
   "source": [
    "# pipa test images \n",
    "pipa_test_direc = ## download pipa test set and give full path \n",
    "# download from https://people.eecs.berkeley.edu/~nzhang/datasets/pipa_test.tar\n",
    "\n",
    "# PIPA test set ground truth\n",
    "pipa_gt_file = '../data/pipa/split_test_original.txt'"
   ]
  },
  {
   "cell_type": "code",
   "execution_count": null,
   "metadata": {
    "collapsed": false
   },
   "outputs": [],
   "source": [
    "pipa_gt = loadtxt(pipa_ft_file, \n",
    "                                  dtype = str)\n",
    "num_models = len(nets)\n",
    "num_examples = pipa_gt.shape[0]\n",
    "pose_features = np.zeros((num_examples, num_models, params['FEATSIZE']));\n",
    "pose_est_weights = np.zeros((num_examples, 7));\n",
    "test_labels = np.zeros((num_examples, 1));\n",
    "test_split = np.zeros((num_examples, 1));\n",
    "\n",
    "for count in range(num_examples):   \n",
    "    img_name = pipa_test_direc + str(pipa_gt[count,0]) + '_'  + str(pipa_gt[count,1]) + '.jpg'\n",
    "    h_box_x = max(int(pipa_gt[count,2]), 0)\n",
    "    h_box_y = max(int(pipa_gt[count,3]), 0)\n",
    "    h_box_w = max(int(pipa_gt[count,4]), 0)\n",
    "    h_box_h = max(int(pipa_gt[count,5]), 0)\n",
    "    test_labels[count] = int(pipa_gt[count, 6])\n",
    "    test_split[count] = int(pipa_gt[count, -1])\n",
    "    \n",
    "    # read image\n",
    "    entire_image = cv2.imread(img_name)\n",
    "    img_h, img_w, img_c = entire_image.shape\n",
    "    \n",
    "    # crop head\n",
    "    head = entire_image[max(0, h_box_y): min(h_box_y + h_box_h, img_h),\n",
    "                                    max(0, h_box_x): min(h_box_x + h_box_w, img_w), :]\n",
    "\n",
    "    # UB box\n",
    "    l = min(h_box_w, h_box_h)\n",
    "    ub_box_x, ub_box_y = int(h_box_x - 0.5*l), int(h_box_y)\n",
    "    ub_box_w, ub_box_h = int(2*l), int(4*l)\n",
    "\n",
    "    # crop UB  \n",
    "    upper_body = entire_image[max(0, ub_box_y): min(ub_box_y + ub_box_h, img_h),\n",
    "                                    max(0, ub_box_x): min(ub_box_x + ub_box_w, img_w), :]\n",
    "\n",
    "    pose_features[count] = get_pose_features(transformer, nets, head, upper_body, num_models, params['FEATSIZE'])      \n",
    "    pose_est_weights[count] = get_pose_weights(transformer, pose_net, upper_body)\n",
    "    if count%500==0:        \n",
    "        print 'Number of images processed:', count"
   ]
  },
  {
   "cell_type": "code",
   "execution_count": null,
   "metadata": {
    "collapsed": false
   },
   "outputs": [],
   "source": [
    "classifiers = train_linear_classifiers(pose_features[np.where(test_split==0)[0]], \n",
    "                                       test_labels[test_split==0], \n",
    "                                       num_models,\n",
    "                                       params)"
   ]
  },
  {
   "cell_type": "code",
   "execution_count": null,
   "metadata": {
    "collapsed": false
   },
   "outputs": [],
   "source": [
    "# Testing\n",
    "num_test = np.sum(test_split==1)\n",
    "predict_scores = None\n",
    "split_1 = np.where(test_split==1)[0]\n",
    "\n",
    "split1_test_features = pose_features[split_1]\n",
    "split1_test_labels = test_labels[split_1]\n",
    "split1_wts = pose_est_weights[split_1]\n",
    "    \n",
    "for i in range(num_test):      \n",
    "    test_feature = split1_test_features[i]\n",
    "    test_label = split1_test_labels[i]\n",
    "    wt = split1_wts[i]          \n",
    "    pred_sample_sc = pose_aware_identity_prediction_(classifiers, test_feature, test_label, wt,  params, num_models)        \n",
    "    if i==0:\n",
    "        predict_scores = np.zeros((num_test, pred_sample_sc.shape[1]))                \n",
    "    predict_scores[i] = pred_sample_sc \n",
    "    \n",
    "    if i%500==0:\n",
    "        print 'Number of images predicted:',i  "
   ]
  },
  {
   "cell_type": "code",
   "execution_count": null,
   "metadata": {
    "collapsed": false
   },
   "outputs": [],
   "source": [
    "# Compute accuracy\n",
    "Labels = np.squeeze(np.array(classifiers[0][0].get_labels()))\n",
    "100*np.mean(test_labels[test_split==1] == Labels[np.argmax(predict_scores, axis=1)])"
   ]
  }
 ],
 "metadata": {
  "kernelspec": {
   "display_name": "Python 2",
   "language": "python",
   "name": "python2"
  },
  "language_info": {
   "codemirror_mode": {
    "name": "ipython",
    "version": 2
   },
   "file_extension": ".py",
   "mimetype": "text/x-python",
   "name": "python",
   "nbconvert_exporter": "python",
   "pygments_lexer": "ipython2",
   "version": "2.7.12"
  }
 },
 "nbformat": 4,
 "nbformat_minor": 0
}
